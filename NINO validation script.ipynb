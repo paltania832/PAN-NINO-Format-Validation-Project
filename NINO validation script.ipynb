{
 "cells": [
  {
   "cell_type": "code",
   "execution_count": 50,
   "id": "da0217c7-ab0e-4b9a-ac46-f31229c34c50",
   "metadata": {},
   "outputs": [],
   "source": [
    "# NINO validation script\n",
    "\n",
    "import pandas as pd\n",
    "df = pd.read_excel(r\"D:\\END TO END PROJECTS - GITHUB\\National Insurance Number (NINO) validation project\\sample_nino_dataset.xlsx\")"
   ]
  },
  {
   "cell_type": "code",
   "execution_count": 22,
   "id": "f4364a03-8da0-4eca-ac2d-f6ed748c4196",
   "metadata": {},
   "outputs": [
    {
     "name": "stdout",
     "output_type": "stream",
     "text": [
      "        NINO\n",
      "0  12AB3456C\n",
      "1   AA123456\n",
      "2        NaN\n",
      "3  AA123789A\n",
      "4  AA12C456A\n",
      "5  AA234109D\n",
      "6           \n",
      "7  AA2341O9D\n",
      "8  AB!23456A\n",
      "9  AB123@56C\n"
     ]
    }
   ],
   "source": [
    "#print(df.head(10))"
   ]
  },
  {
   "cell_type": "code",
   "execution_count": 51,
   "id": "777f8d1e-5622-40a5-95b3-d9451eb82a71",
   "metadata": {},
   "outputs": [],
   "source": [
    "total_records = len(df)"
   ]
  },
  {
   "cell_type": "code",
   "execution_count": 52,
   "id": "88d1db54-1a71-40a7-846a-d2a28ca339c8",
   "metadata": {},
   "outputs": [
    {
     "name": "stdout",
     "output_type": "stream",
     "text": [
      "Total records:  114\n"
     ]
    }
   ],
   "source": [
    "print('Total records: ',len(df)) "
   ]
  },
  {
   "cell_type": "code",
   "execution_count": 53,
   "id": "d451797f-7f5e-4b16-9c0d-6b74b9c1e8ad",
   "metadata": {},
   "outputs": [
    {
     "name": "stdout",
     "output_type": "stream",
     "text": [
      "NaN count: 2\n",
      "Empty string count: 0\n"
     ]
    }
   ],
   "source": [
    "# If you only want the number of missing values in the NINO column:\n",
    "print(\"NaN count:\", df['NINO'].isna().sum())\n",
    "print(\"Empty string count:\", (df['NINO'] == '').sum())\n",
    "\n",
    "# If you want to see the actual rows\n",
    "#print(\"Rows with NaN:\\n\", df[df['NINO'].isna()])\n",
    "#print(\"Rows with empty string:\\n\", df[df['NINO'] == ''])\n"
   ]
  },
  {
   "cell_type": "code",
   "execution_count": 54,
   "id": "70d8ee4e-b806-4c59-8128-2fb0ff570b75",
   "metadata": {},
   "outputs": [],
   "source": [
    "# Convert empty NINO values to NA, then remove those rows.\n",
    "df = df.replace({'NINO',''},pd.NA).dropna(subset='NINO') # in my dataset - 2 rows will be removed"
   ]
  },
  {
   "cell_type": "code",
   "execution_count": 55,
   "id": "9c891e79-4ec6-4cdf-bac7-0e82214285da",
   "metadata": {},
   "outputs": [],
   "source": [
    "# If you want to clean spaces only in the NINO column:\n",
    "df['NINO'] = df['NINO'].astype('string').str.strip()"
   ]
  },
  {
   "cell_type": "code",
   "execution_count": 56,
   "id": "03ab0fc7-c82a-4709-bc09-819a26d3bdc2",
   "metadata": {},
   "outputs": [],
   "source": [
    "# If you want to convert the NINO column to uppercase:\n",
    "df['NINO'] = df['NINO'].str.upper()"
   ]
  },
  {
   "cell_type": "code",
   "execution_count": 57,
   "id": "330692a6-551d-4f9e-9f9c-91377bab8b61",
   "metadata": {},
   "outputs": [
    {
     "name": "stdout",
     "output_type": "stream",
     "text": [
      "Total records:  112\n",
      "Unique values:  101\n"
     ]
    }
   ],
   "source": [
    "print('Total records: ',len(df))\n",
    "print('Unique values: ',df['NINO'].nunique())"
   ]
  },
  {
   "cell_type": "code",
   "execution_count": 58,
   "id": "3ac2eb45-ab8f-48f5-91e0-469808497168",
   "metadata": {},
   "outputs": [],
   "source": [
    "# Drop the duplicates if there are any\n",
    "df = df.drop_duplicates(subset='NINO',keep='first')"
   ]
  },
  {
   "cell_type": "code",
   "execution_count": 59,
   "id": "6759a064-e4c3-4225-ab1c-462e19f64625",
   "metadata": {},
   "outputs": [
    {
     "name": "stdout",
     "output_type": "stream",
     "text": [
      "Total records:  101\n",
      "Unique values:  101\n"
     ]
    }
   ],
   "source": [
    "print('Total records: ',len(df))\n",
    "print('Unique values: ',df['NINO'].nunique())"
   ]
  },
  {
   "cell_type": "code",
   "execution_count": 60,
   "id": "42d0a8e6-adc2-4f40-ab20-6450bca1ebb8",
   "metadata": {},
   "outputs": [],
   "source": [
    "# NINO format Validation:\n",
    "# Structure: AA999999A - >=8 and max 9 characters\n",
    "\n",
    "# Prefix rules (first two letters):\n",
    "# Must be letters only (no digits).\n",
    "# First letter cannot be: D, F, I, Q, U, V.\n",
    "# Second letter cannot be: D, F, I, O, Q, U, V.\n",
    "# Certain prefixes are not used (like BG, GB, NK, KN, TN, NT, ZZ).\n",
    "\n",
    "# Digits (positions 3–8):\n",
    "# Always six numeric digits.\n",
    "# Leading zeros are allowed (e.g., AB001234C).\n",
    "\n",
    "# Suffix (last character):\n",
    "# Must be one of: A, B, C, D.\n",
    "# Sometimes no suffix is used in modern systems (rare).\n",
    "\n",
    "# Case sensitivity:\n",
    "# Standard is uppercase (e.g., ab123456c → should be normalized to AB123456C).\n",
    "\n",
    "import re\n",
    "def is_valid_NINO(NINO: str) -> bool:\n",
    "    \"\"\"Validate a UK National Insurance Number (NINO) format.\"\"\"\n",
    "    \n",
    "    # Must be string\n",
    "    if not isinstance(NINO, str):\n",
    "        return False\n",
    "    \n",
    "    # Case sensitivity → must be uppercase\n",
    "    if NINO != NINO.upper():\n",
    "        return False\n",
    "    \n",
    "    # Trim spaces\n",
    "    NINO = NINO.strip()\n",
    "    \n",
    "    # Length check: should be exactly 9 chars\n",
    "    if len(NINO) != 9:\n",
    "        return False\n",
    "\n",
    "     # Regex validation\n",
    "    if not re.match(\n",
    "        r\"^(?!BG)(?!GB)(?!NK)(?!KN)(?!TN)(?!NT)(?!ZZ)\"   # banned prefixes\n",
    "        r\"[A-CEGHJ-PR-TW-Z]{2}\"                          # first two letters\n",
    "        r\"\\d{6}\"                                         # six digits\n",
    "        r\"[A-D]$\",                                       # suffix must be A-D\n",
    "        NINO\n",
    "    ):\n",
    "        return False\n",
    "    \n",
    "    return True\n"
   ]
  },
  {
   "cell_type": "code",
   "execution_count": 62,
   "id": "8f67a2ad-671a-4707-9781-963cdb8706e9",
   "metadata": {},
   "outputs": [
    {
     "name": "stdout",
     "output_type": "stream",
     "text": [
      "         NINO   Status\n",
      "0   12AB3456C  Invalid\n",
      "1    AA123456  Invalid\n",
      "3   AA123789A    Valid\n",
      "4   AA12C456A  Invalid\n",
      "5   AA234109D    Valid\n",
      "6              Invalid\n",
      "7   AA2341O9D  Invalid\n",
      "8   AB!23456A  Invalid\n",
      "9   AB123@56C  Invalid\n",
      "10    AB12345  Invalid\n"
     ]
    }
   ],
   "source": [
    "df['Status'] = df['NINO'].apply(lambda x: \"Valid\" if is_valid_NINO(x) else \"Invalid\")\n",
    "print(df.head(10))"
   ]
  },
  {
   "cell_type": "code",
   "execution_count": 64,
   "id": "7b6cb578-2086-4856-87d3-2e2420b89719",
   "metadata": {},
   "outputs": [],
   "source": [
    "valid_count = (df['Status']=='Valid').sum()\n",
    "invalid_count = (df['Status']=='Invalid').sum()\n",
    "missing_count = total_records -(valid_count+invalid_count)"
   ]
  },
  {
   "cell_type": "code",
   "execution_count": 65,
   "id": "799892a9-1cdb-478c-9105-a1c919d9dead",
   "metadata": {},
   "outputs": [
    {
     "name": "stdout",
     "output_type": "stream",
     "text": [
      "Total records =  114\n",
      "Valid =  32\n",
      "Invalid =  69\n",
      "Missing =  13\n"
     ]
    }
   ],
   "source": [
    "print('Total records = ', total_records)\n",
    "print('Valid = ', valid_count)\n",
    "print('Invalid = ', invalid_count)\n",
    "print('Missing = ', missing_count)\n"
   ]
  },
  {
   "cell_type": "code",
   "execution_count": 69,
   "id": "c1596ce2-54fa-44b8-9107-20f86f56563e",
   "metadata": {},
   "outputs": [
    {
     "name": "stdout",
     "output_type": "stream",
     "text": [
      "   TOTAL PROCESSED RECORDS  TOTAL VALID COUNT  TOTAL INVALID COUNT  \\\n",
      "0                      114                 32                   69   \n",
      "\n",
      "   TOTAL MISSING NINO  \n",
      "0                  13  \n"
     ]
    }
   ],
   "source": [
    "df_summary = pd.DataFrame({ \"TOTAL PROCESSED RECORDS\":[total_records]\n",
    "                           ,\"TOTAL VALID COUNT\": [valid_count]\n",
    "                           ,\"TOTAL INVALID COUNT\": [invalid_count]\n",
    "                           ,\"TOTAL MISSING NINO\": [missing_count]})\n",
    "print(df_summary.head())\n",
    "\n",
    "with pd.ExcelWriter(\"NINO VALIDATION RESULT.xlsx\") as writer:\n",
    "    df.to_excel(writer, sheet_name=\"NINO Validations\",index=False)\n",
    "    df_summary.to_excel(writer, sheet_name=\"SUMMARY_DATA_NINO\",index=False)"
   ]
  },
  {
   "cell_type": "code",
   "execution_count": null,
   "id": "95b8ef54-67d6-4b01-8b73-afa8053349e6",
   "metadata": {},
   "outputs": [],
   "source": []
  }
 ],
 "metadata": {
  "kernelspec": {
   "display_name": "Python 3 (ipykernel)",
   "language": "python",
   "name": "python3"
  },
  "language_info": {
   "codemirror_mode": {
    "name": "ipython",
    "version": 3
   },
   "file_extension": ".py",
   "mimetype": "text/x-python",
   "name": "python",
   "nbconvert_exporter": "python",
   "pygments_lexer": "ipython3",
   "version": "3.13.2"
  }
 },
 "nbformat": 4,
 "nbformat_minor": 5
}
